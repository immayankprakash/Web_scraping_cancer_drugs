{
 "cells": [
  {
   "cell_type": "markdown",
   "metadata": {},
   "source": [
    "### Goal : To extract and save FDA approved cancer drugs data into excel file."
   ]
  },
  {
   "cell_type": "code",
   "execution_count": 1,
   "metadata": {},
   "outputs": [],
   "source": [
    "import numpy as np\n",
    "import pandas as pd\n",
    "import requests\n",
    "from bs4 import BeautifulSoup"
   ]
  },
  {
   "cell_type": "code",
   "execution_count": 8,
   "metadata": {},
   "outputs": [],
   "source": [
    "url=\"https://www.mycancergenome.org/content/page/overview-of-targeted-therapies-for-cancer/\"\n",
    "res=requests.get(url=url)"
   ]
  },
  {
   "cell_type": "code",
   "execution_count": 120,
   "metadata": {},
   "outputs": [],
   "source": [
    "soup=BeautifulSoup(res.text, features=\"html.parser\")"
   ]
  },
  {
   "cell_type": "code",
   "execution_count": 274,
   "metadata": {},
   "outputs": [],
   "source": [
    "cancer_drugs=[]\n",
    "\n",
    "for row in soup.select('table tbody'):\n",
    "    row_text = [x.text.strip() for x in row.find_all('td')]\n",
    "    cancer_drugs.append(row_text)      "
   ]
  },
  {
   "cell_type": "code",
   "execution_count": 275,
   "metadata": {},
   "outputs": [],
   "source": [
    "cancer_drugs=np.array(cancer_drugs[1],dtype='object')"
   ]
  },
  {
   "cell_type": "code",
   "execution_count": 276,
   "metadata": {},
   "outputs": [],
   "source": [
    "test=cancer_drugs.reshape(84,3)"
   ]
  },
  {
   "cell_type": "code",
   "execution_count": 278,
   "metadata": {},
   "outputs": [],
   "source": [
    "df=pd.DataFrame(test,columns=['Drugs','Target(s)','FDA-approved indication(s)'])"
   ]
  },
  {
   "cell_type": "code",
   "execution_count": 280,
   "metadata": {},
   "outputs": [
    {
     "data": {
      "text/html": [
       "<div>\n",
       "<style scoped>\n",
       "    .dataframe tbody tr th:only-of-type {\n",
       "        vertical-align: middle;\n",
       "    }\n",
       "\n",
       "    .dataframe tbody tr th {\n",
       "        vertical-align: top;\n",
       "    }\n",
       "\n",
       "    .dataframe thead th {\n",
       "        text-align: right;\n",
       "    }\n",
       "</style>\n",
       "<table border=\"1\" class=\"dataframe\">\n",
       "  <thead>\n",
       "    <tr style=\"text-align: right;\">\n",
       "      <th></th>\n",
       "      <th>Drugs</th>\n",
       "      <th>Target(s)</th>\n",
       "      <th>FDA-approved indication(s)</th>\n",
       "    </tr>\n",
       "  </thead>\n",
       "  <tbody>\n",
       "    <tr>\n",
       "      <th>0</th>\n",
       "      <td>Ado-trastuzumab emtansine (Kadcyla)</td>\n",
       "      <td>HER2 (ERBB2/neu)</td>\n",
       "      <td>Breast cancer (HER2+)</td>\n",
       "    </tr>\n",
       "    <tr>\n",
       "      <th>1</th>\n",
       "      <td>Afatinib (Gilotrif)</td>\n",
       "      <td>EGFR (HER1/ERBB1), HER2 (ERBB2/neu)</td>\n",
       "      <td>Non-small cell lung cancer (with EGFR exon 19 ...</td>\n",
       "    </tr>\n",
       "    <tr>\n",
       "      <th>2</th>\n",
       "      <td>Aldesleukin (Proleukin)</td>\n",
       "      <td></td>\n",
       "      <td>Renal cell carcinoma\\nMelanoma</td>\n",
       "    </tr>\n",
       "    <tr>\n",
       "      <th>3</th>\n",
       "      <td>Alectinib (Alecensa)</td>\n",
       "      <td>ALK</td>\n",
       "      <td>Non-small cell lung cancer (with ALK fusion)</td>\n",
       "    </tr>\n",
       "    <tr>\n",
       "      <th>4</th>\n",
       "      <td>Alemtuzumab (Campath)</td>\n",
       "      <td>CD52</td>\n",
       "      <td>B-cell chronic lymphocytic leukemia</td>\n",
       "    </tr>\n",
       "  </tbody>\n",
       "</table>\n",
       "</div>"
      ],
      "text/plain": [
       "                                 Drugs                            Target(s)  \\\n",
       "0  Ado-trastuzumab emtansine (Kadcyla)                     HER2 (ERBB2/neu)   \n",
       "1                  Afatinib (Gilotrif)  EGFR (HER1/ERBB1), HER2 (ERBB2/neu)   \n",
       "2              Aldesleukin (Proleukin)                                        \n",
       "3                 Alectinib (Alecensa)                                  ALK   \n",
       "4                Alemtuzumab (Campath)                                 CD52   \n",
       "\n",
       "                          FDA-approved indication(s)  \n",
       "0                              Breast cancer (HER2+)  \n",
       "1  Non-small cell lung cancer (with EGFR exon 19 ...  \n",
       "2                     Renal cell carcinoma\\nMelanoma  \n",
       "3       Non-small cell lung cancer (with ALK fusion)  \n",
       "4                B-cell chronic lymphocytic leukemia  "
      ]
     },
     "execution_count": 280,
     "metadata": {},
     "output_type": "execute_result"
    }
   ],
   "source": [
    "df.head()"
   ]
  },
  {
   "cell_type": "code",
   "execution_count": 282,
   "metadata": {},
   "outputs": [],
   "source": [
    "df.to_excel('Cancer_Drugs_Data.xlsx')"
   ]
  }
 ],
 "metadata": {
  "kernelspec": {
   "display_name": "Python 3",
   "language": "python",
   "name": "python3"
  },
  "language_info": {
   "codemirror_mode": {
    "name": "ipython",
    "version": 3
   },
   "file_extension": ".py",
   "mimetype": "text/x-python",
   "name": "python",
   "nbconvert_exporter": "python",
   "pygments_lexer": "ipython3",
   "version": "3.8.5"
  }
 },
 "nbformat": 4,
 "nbformat_minor": 4
}
